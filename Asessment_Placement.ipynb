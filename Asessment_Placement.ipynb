{
 "cells": [
  {
   "cell_type": "markdown",
   "metadata": {},
   "source": [
    "#Python Screening Assessment\n",
    "### Question 1. Create a function in python to read the text file and replace specific content of the file."
   ]
  },
  {
   "cell_type": "code",
   "execution_count": 10,
   "metadata": {},
   "outputs": [],
   "source": [
    "\n",
    "import tkinter as tk\n",
    "from tkinter import filedialog as fd\n",
    "from tkinter import messagebox\n",
    "\n",
    "def browseFiles():\n",
    "    global filename\n",
    "    filename = fd.askopenfilename(initialdir = \"/\",\n",
    "                                title = \"Select a File\",\n",
    "                                filetypes = ((\"Text files\",\"*.txt*\"),(\"all files\",\"*.*\")))\n",
    "    try:\n",
    "        with open(filename,'r+') as file_:\n",
    "            main.configure(text=file_.read())\n",
    "            file_.close()\n",
    "    except:\n",
    "        pass\n",
    "    \n",
    "def convertFiles():\n",
    "    \n",
    "    if old_w.get()=='' or new_w.get()=='':\n",
    "        messagebox.showinfo(title='Alert!', message='Please enter words in both boxes')\n",
    "        return None\n",
    "    \n",
    "    try:\n",
    "        with open(filename,'r+') as file_:\n",
    "            if file_.read().find(old_w.get())==-1:\n",
    "                messagebox.showinfo(title='Alert!', message='Word not found')\n",
    "            else:\n",
    "                file_.seek(0)\n",
    "                txt=file_.read()\n",
    "                x=old_w.get()\n",
    "                y=new_w.get()\n",
    "                file_.seek(0)\n",
    "                file_.write(txt.replace(x,y))\n",
    "                file_.seek(0)\n",
    "                txt=file_.read()\n",
    "                main.configure(text=txt)\n",
    "                file_.close()\n",
    "               \n",
    "                \n",
    "    except:\n",
    "        pass\n",
    "def read_and_convert():\n",
    "    global main,old_w,new_w\n",
    "    w=tk.Tk()\n",
    "    w.title('To replace a specific word in a text file!')\n",
    "    w.geometry(\"600x400\")\n",
    "    w.config(background = \"white\")\n",
    "    old_l=tk.Label(w,text='Enter old word to replace: ')\n",
    "    new_l=tk.Label(w,text='Enter new word to replace with: ')\n",
    "    old_w = tk.StringVar()\n",
    "    new_w = tk.StringVar()\n",
    "    old=tk.Entry(w,bg='white',textvariable=old_w)\n",
    "    new=tk.Entry(w,bg='white',textvariable=new_w)\n",
    "    old.grid(row=1,column=1,sticky='nsew')\n",
    "    old_l.grid(row=1,sticky='nsew')\n",
    "    new.grid(row=2,column=1,sticky='nsew')\n",
    "    new_l.grid(row=2,sticky='nsew')\n",
    "    main=tk.Label(w,text='Click above to choose readable file')\n",
    "    main.grid(row=4,columnspan=2,sticky='nsew')\n",
    "    button=tk.Button(w,text='choose file',command=browseFiles)\n",
    "    button.grid(row=3,column=0,sticky='nsew')\n",
    "    button1=tk.Button(w,text='convert',command=convertFiles)\n",
    "    button1.grid(row=3,column=1,sticky='nsew')\n",
    "\n",
    "    w.mainloop()"
   ]
  },
  {
   "cell_type": "code",
   "execution_count": 9,
   "metadata": {},
   "outputs": [],
   "source": [
    "# Solution 1 - Function calling \n",
    "read_and_convert()"
   ]
  },
  {
   "cell_type": "markdown",
   "metadata": {},
   "source": [
    "## Question 2\n",
    "### 2. Demonstrate use of abstract class, multiple inheritance and decorator in python using examples."
   ]
  },
  {
   "cell_type": "code",
   "execution_count": 14,
   "metadata": {},
   "outputs": [],
   "source": [
    "from abc import ABC,abstractmethod"
   ]
  },
  {
   "cell_type": "code",
   "execution_count": 97,
   "metadata": {},
   "outputs": [],
   "source": [
    "class system(ABC):\n",
    "    \n",
    "    @abstractmethod\n",
    "    def cpu_(self):\n",
    "        pass\n",
    "    @abstractmethod\n",
    "    def ram_(self):\n",
    "        pass\n",
    "    @abstractmethod\n",
    "    def hd_(self):\n",
    "        pass\n",
    "    @abstractmethod\n",
    "    def size_(self):\n",
    "        pass\n",
    "\n",
    "class laptop(system):\n",
    "    def __init__(self,cpu,ram,hd,size):\n",
    "        self.cpu=cpu\n",
    "        self.ram=ram\n",
    "        self.hd=hd\n",
    "        self.size=size\n",
    "        \n",
    "    def cpu_(self):\n",
    "        print(f'The CPU is {self.cpu}')\n",
    "        \n",
    "    def ram_(self):\n",
    "        print(f'The RAM is {self.ram}')\n",
    "        \n",
    "    def hd_(self):\n",
    "        print(f'The HD is {self.hd}')\n",
    "        \n",
    "    def size_(self):\n",
    "        print(f'The Size is {self.size}')\n",
    "        "
   ]
  },
  {
   "cell_type": "code",
   "execution_count": 101,
   "metadata": {},
   "outputs": [
    {
     "name": "stdout",
     "output_type": "stream",
     "text": [
      "The CPU is intel\n",
      "The RAM is 8gb\n",
      "The HD is 1tb\n",
      "The Size is 15-inch\n"
     ]
    }
   ],
   "source": [
    "x=laptop('intel','8gb','1tb','15-inch')\n",
    "x.cpu_()\n",
    "x.ram_()\n",
    "x.hd_()\n",
    "x.size_()"
   ]
  },
  {
   "cell_type": "raw",
   "metadata": {},
   "source": [
    "# In the above example, Abstract class is not inbuild in OOP concept in python. \n",
    "# So There is a library of abstract method or class i.e abc.\n",
    "\n",
    "## A class is called abstract class when It has inheritence of abstract class and \n",
    "have the same method or function defined in child class which is inherited from abstract class (parent class).\n",
    "\n",
    "For Example:\n",
    "    'system' is an abstract class having inheritance of 'ABC' module/class imported from 'abc'    package.In the same way , child class 'laptop' has single level inheritance of 'system' abstract class which makes 'laptop' class an abstract class.\n",
    "and that's why laptop class has all defined methods which is declared in 'system' class i.e an abstract class.\n",
    "\n",
    "# So An abstract class pre declares the all methods in itself and let another child class to mandatorily use those methods well defined as it's module.\n",
    "\n",
    "# to make any method as an abstract method, This decorator '@abstractmethod' is used to make that specific method before declaring it in parent abstract class.\n",
    "example:\n",
    "class system(ABC):\n",
    "    \n",
    "    @abstractmethod\n",
    "    def cpu_(self):\n",
    "        pass\n"
   ]
  },
  {
   "cell_type": "code",
   "execution_count": 104,
   "metadata": {},
   "outputs": [],
   "source": [
    "# Multiple Inheritence\n",
    "\n",
    "# This is one of the OOP concept in python class which states about the Inheritance of the feature \n",
    "# and behavior of the parent class into the child class.Below example is for the Multilevel Inheritence as\n",
    "# There is inheritence of feature & behavior of class A to class B and inheritence of both class A &B to class C\n",
    "\n",
    "# For example:\n",
    "class A():\n",
    "    def __init__(self,x,y):\n",
    "        self.x=x\n",
    "        self.y=y\n",
    "    def A1(self):\n",
    "        print('This is A class method \"A1\"')\n",
    "    def A2(self):\n",
    "        print('This is A class method \"A2\"')   \n",
    "        \n",
    "class B(A):\n",
    "    def B1(self):\n",
    "        print('This is B class method \"B1\"')\n",
    "    def B2(self):\n",
    "        print('This is B class method \"B2\"')\n",
    "\n",
    "class C(B):\n",
    "    def C1(self):\n",
    "        print('This is C class method \"C1\"')\n",
    "    def C2(self):\n",
    "        print('This is C class method \"C2\"')"
   ]
  },
  {
   "cell_type": "code",
   "execution_count": 106,
   "metadata": {},
   "outputs": [],
   "source": [
    "z=C(1,2)"
   ]
  },
  {
   "cell_type": "code",
   "execution_count": 116,
   "metadata": {},
   "outputs": [
    {
     "name": "stdout",
     "output_type": "stream",
     "text": [
      "1\n"
     ]
    },
    {
     "data": {
      "text/plain": [
       "2"
      ]
     },
     "execution_count": 116,
     "metadata": {},
     "output_type": "execute_result"
    }
   ],
   "source": [
    "print(z.x)\n",
    "z.y"
   ]
  },
  {
   "cell_type": "code",
   "execution_count": 114,
   "metadata": {},
   "outputs": [
    {
     "name": "stdout",
     "output_type": "stream",
     "text": [
      "This is C class method \"C1\"\n",
      "This is C class method \"C2\"\n"
     ]
    }
   ],
   "source": [
    "z.C1()\n",
    "z.C2()"
   ]
  },
  {
   "cell_type": "code",
   "execution_count": 113,
   "metadata": {},
   "outputs": [
    {
     "name": "stdout",
     "output_type": "stream",
     "text": [
      "This is A class method \"A1\"\n",
      "This is A class method \"A2\"\n"
     ]
    }
   ],
   "source": [
    "z.A1()\n",
    "z.A2()"
   ]
  },
  {
   "cell_type": "code",
   "execution_count": 111,
   "metadata": {},
   "outputs": [
    {
     "name": "stdout",
     "output_type": "stream",
     "text": [
      "This is B class method \"B1\"\n",
      "This is B class method \"B2\"\n"
     ]
    }
   ],
   "source": [
    "z.B1()\n",
    "z.B2()"
   ]
  },
  {
   "cell_type": "code",
   "execution_count": 129,
   "metadata": {},
   "outputs": [
    {
     "name": "stdout",
     "output_type": "stream",
     "text": [
      "Before calling function\n",
      "This is wrapped function called\n",
      "After calling function\n"
     ]
    }
   ],
   "source": [
    "# Decorator\n",
    "\n",
    "# Decorator is something which deals with taking function as an argument in a user defined function (i.e. function decorator)\n",
    "# or creating object of class which takes function as argument (i.e. class decorator).\n",
    "# In case of creating class as decorator, There must be a __call__ method called in that class.\n",
    "# Decorator is always called by '@' followed by 'name_of_decorator'. i.e @abstractmethod or @staticmethod\n",
    "\n",
    "# for example: class decorator\n",
    "\n",
    "class decorator():\n",
    "    def __init__(self,user_func):\n",
    "        self.user_func=user_func\n",
    "    \n",
    "    def __call__(self):\n",
    "        print('Before calling function')\n",
    "        \n",
    "        self.user_func()\n",
    "    \n",
    "        print('After calling function')\n",
    "\n",
    "@decorator\n",
    "def example():\n",
    "    print('This is wrapped function called')\n",
    "\n",
    "example()\n",
    " \n",
    "    "
   ]
  },
  {
   "cell_type": "markdown",
   "metadata": {},
   "source": [
    "# END"
   ]
  }
 ],
 "metadata": {
  "kernelspec": {
   "display_name": "Python 3",
   "language": "python",
   "name": "python3"
  },
  "language_info": {
   "codemirror_mode": {
    "name": "ipython",
    "version": 3
   },
   "file_extension": ".py",
   "mimetype": "text/x-python",
   "name": "python",
   "nbconvert_exporter": "python",
   "pygments_lexer": "ipython3",
   "version": "3.8.3"
  }
 },
 "nbformat": 4,
 "nbformat_minor": 4
}
